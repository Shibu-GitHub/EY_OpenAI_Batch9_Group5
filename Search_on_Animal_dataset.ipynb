{
  "cells": [
    {
      "cell_type": "code",
      "execution_count": 1,
      "metadata": {
        "jupyter": {
          "outputs_hidden": false,
          "source_hidden": false
        },
        "nteract": {
          "transient": {
            "deleting": false
          }
        },
        "colab": {
          "base_uri": "https://localhost:8080/"
        },
        "id": "cBjWzf2mRl6a",
        "outputId": "49cee6cc-e55f-43f1-e0f8-428d93ecd305"
      },
      "outputs": [
        {
          "output_type": "stream",
          "name": "stdout",
          "text": [
            "Collecting openai==1.13.3\n",
            "  Downloading openai-1.13.3-py3-none-any.whl.metadata (18 kB)\n",
            "Requirement already satisfied: anyio<5,>=3.5.0 in /usr/local/lib/python3.10/dist-packages (from openai==1.13.3) (3.7.1)\n",
            "Requirement already satisfied: distro<2,>=1.7.0 in /usr/local/lib/python3.10/dist-packages (from openai==1.13.3) (1.9.0)\n",
            "Requirement already satisfied: httpx<1,>=0.23.0 in /usr/local/lib/python3.10/dist-packages (from openai==1.13.3) (0.27.2)\n",
            "Requirement already satisfied: pydantic<3,>=1.9.0 in /usr/local/lib/python3.10/dist-packages (from openai==1.13.3) (2.9.2)\n",
            "Requirement already satisfied: sniffio in /usr/local/lib/python3.10/dist-packages (from openai==1.13.3) (1.3.1)\n",
            "Requirement already satisfied: tqdm>4 in /usr/local/lib/python3.10/dist-packages (from openai==1.13.3) (4.66.6)\n",
            "Requirement already satisfied: typing-extensions<5,>=4.7 in /usr/local/lib/python3.10/dist-packages (from openai==1.13.3) (4.12.2)\n",
            "Requirement already satisfied: idna>=2.8 in /usr/local/lib/python3.10/dist-packages (from anyio<5,>=3.5.0->openai==1.13.3) (3.10)\n",
            "Requirement already satisfied: exceptiongroup in /usr/local/lib/python3.10/dist-packages (from anyio<5,>=3.5.0->openai==1.13.3) (1.2.2)\n",
            "Requirement already satisfied: certifi in /usr/local/lib/python3.10/dist-packages (from httpx<1,>=0.23.0->openai==1.13.3) (2024.8.30)\n",
            "Requirement already satisfied: httpcore==1.* in /usr/local/lib/python3.10/dist-packages (from httpx<1,>=0.23.0->openai==1.13.3) (1.0.7)\n",
            "Requirement already satisfied: h11<0.15,>=0.13 in /usr/local/lib/python3.10/dist-packages (from httpcore==1.*->httpx<1,>=0.23.0->openai==1.13.3) (0.14.0)\n",
            "Requirement already satisfied: annotated-types>=0.6.0 in /usr/local/lib/python3.10/dist-packages (from pydantic<3,>=1.9.0->openai==1.13.3) (0.7.0)\n",
            "Requirement already satisfied: pydantic-core==2.23.4 in /usr/local/lib/python3.10/dist-packages (from pydantic<3,>=1.9.0->openai==1.13.3) (2.23.4)\n",
            "Downloading openai-1.13.3-py3-none-any.whl (227 kB)\n",
            "\u001b[2K   \u001b[90m━━━━━━━━━━━━━━━━━━━━━━━━━━━━━━━━━━━━━━━━\u001b[0m \u001b[32m227.4/227.4 kB\u001b[0m \u001b[31m9.2 MB/s\u001b[0m eta \u001b[36m0:00:00\u001b[0m\n",
            "\u001b[?25hInstalling collected packages: openai\n",
            "  Attempting uninstall: openai\n",
            "    Found existing installation: openai 1.54.4\n",
            "    Uninstalling openai-1.54.4:\n",
            "      Successfully uninstalled openai-1.54.4\n",
            "Successfully installed openai-1.13.3\n"
          ]
        }
      ],
      "source": [
        "!pip install openai==1.13.3"
      ]
    },
    {
      "cell_type": "code",
      "execution_count": 2,
      "metadata": {
        "gather": {
          "logged": 1712392098283
        },
        "id": "w8VObRzgRl6c"
      },
      "outputs": [],
      "source": [
        "# Add Azure OpenAI package\n",
        "from openai import AzureOpenAI"
      ]
    },
    {
      "cell_type": "code",
      "execution_count": 28,
      "metadata": {
        "gather": {
          "logged": 1712392099428
        },
        "jupyter": {
          "outputs_hidden": false,
          "source_hidden": false
        },
        "nteract": {
          "transient": {
            "deleting": false
          }
        },
        "id": "-G3WCjZCRl6c"
      },
      "outputs": [],
      "source": [
        "import json\n",
        "\n",
        "# Flag to show citations\n",
        "show_citations = True\n",
        "\n",
        "# Get configuration settings\n",
        "azure_oai_endpoint = \"https://eygroup05.openai.azure.com/\"\n",
        "azure_oai_key = \"CDX5weT8utPTl0RODuidCb6jxOjOqoYbTKxrLiEzJNOVG5R4gfdzJQQJ99AKACI8hq2XJ3w3AAABACOGiV7C\"\n",
        "azure_oai_deployment = \"group5deployment\"\n",
        "azure_search_endpoint = \"https://searchgroup05.search.windows.net\"\n",
        "azure_search_key = \"1ADA4nVWFBaPhnwQm37HHVNbsoJr1cnvpPhp4Ih80iAzSeBUMwMf\"\n",
        "azure_search_index = \"wildlife1\""
      ]
    },
    {
      "cell_type": "code",
      "execution_count": 29,
      "metadata": {
        "gather": {
          "logged": 1712392100502
        },
        "jupyter": {
          "outputs_hidden": false,
          "source_hidden": false
        },
        "nteract": {
          "transient": {
            "deleting": false
          }
        },
        "id": "8dcE0YNTRl6d"
      },
      "outputs": [],
      "source": [
        "# Initialize the Azure OpenAI client\n",
        "client = AzureOpenAI(\n",
        "            base_url=f\"{azure_oai_endpoint}/openai/deployments/{azure_oai_deployment}/extensions\",\n",
        "            api_key=azure_oai_key,\n",
        "            api_version=\"2023-09-01-preview\")"
      ]
    },
    {
      "cell_type": "code",
      "execution_count": 30,
      "metadata": {
        "gather": {
          "logged": 1712392101499
        },
        "jupyter": {
          "outputs_hidden": false,
          "source_hidden": false
        },
        "nteract": {
          "transient": {
            "deleting": false
          }
        },
        "id": "OpVU5KiTRl6d"
      },
      "outputs": [],
      "source": [
        "# Configure your data source\n",
        "extension_config = dict(dataSources = [\n",
        "        {\n",
        "            \"type\": \"AzureCognitiveSearch\",\n",
        "            \"parameters\": {\n",
        "                \"endpoint\":azure_search_endpoint,\n",
        "                \"key\": azure_search_key,\n",
        "                \"indexName\": azure_search_index,\n",
        "            }\n",
        "        }]\n",
        "    )"
      ]
    },
    {
      "cell_type": "code",
      "execution_count": 31,
      "metadata": {
        "gather": {
          "logged": 1712392139105
        },
        "jupyter": {
          "outputs_hidden": false,
          "source_hidden": false
        },
        "nteract": {
          "transient": {
            "deleting": false
          }
        },
        "colab": {
          "base_uri": "https://localhost:8080/"
        },
        "id": "zTAs48b9Rl6e",
        "outputId": "df81d706-8ce4-4f39-8900-508accb55f6b"
      },
      "outputs": [
        {
          "name": "stdout",
          "output_type": "stream",
          "text": [
            "\n",
            "Enter a question:\n",
            "Describe Artic Fox\n"
          ]
        }
      ],
      "source": [
        "# Get the prompt\n",
        "text = input('\\nEnter a question:\\n')"
      ]
    },
    {
      "cell_type": "code",
      "execution_count": 32,
      "metadata": {
        "gather": {
          "logged": 1712392142167
        },
        "jupyter": {
          "outputs_hidden": false,
          "source_hidden": false
        },
        "nteract": {
          "transient": {
            "deleting": false
          }
        },
        "colab": {
          "base_uri": "https://localhost:8080/"
        },
        "id": "h67GQw9TRl6e",
        "outputId": "ba302417-7b18-44df-c28b-5d2d85fa71fb"
      },
      "outputs": [
        {
          "output_type": "stream",
          "name": "stdout",
          "text": [
            "...Sending the following request to Azure OpenAI endpoint...\n",
            "Request: Describe Artic Fox\n",
            "\n"
          ]
        }
      ],
      "source": [
        "# Send request to Azure OpenAI model\n",
        "print(\"...Sending the following request to Azure OpenAI endpoint...\")\n",
        "print(\"Request: \" + text + \"\\n\")\n",
        "\n",
        "response = client.chat.completions.create(\n",
        "    model = azure_oai_deployment,\n",
        "    temperature = 0.5,\n",
        "    max_tokens = 1000,\n",
        "    messages = [\n",
        "         {\"role\": \"system\", \"content\": \"You are a wildlife enthusiast and can advise people about wild animals\"},\n",
        "         {\"role\": \"user\", \"content\": text}\n",
        "            ],\n",
        "            extra_body = extension_config\n",
        "        )"
      ]
    },
    {
      "cell_type": "code",
      "execution_count": 33,
      "metadata": {
        "gather": {
          "logged": 1712392342071
        },
        "jupyter": {
          "outputs_hidden": false,
          "source_hidden": false
        },
        "nteract": {
          "transient": {
            "deleting": false
          }
        },
        "colab": {
          "base_uri": "https://localhost:8080/"
        },
        "id": "44hG1oF2Rl6e",
        "outputId": "3dcc42e9-57cc-4ced-b1d8-72f6d23c8de1"
      },
      "outputs": [
        {
          "output_type": "stream",
          "name": "stdout",
          "text": [
            "Response: The Arctic fox (Vulpes lagopus) is a small mammal native to the Arctic regions of the Northern Hemisphere [doc1]. It is known for its thick, warm fur and exceptional adaptability to harsh environments with temperatures as low as -50 degrees Celsius [doc1]. Here are some key characteristics and features of the Arctic fox:\n",
            "\n",
            "- Size: The Arctic fox measures about 46-68 cm in length, with a tail of 30-35 cm [doc1].\n",
            "- Weight: It ranges from 3 to 9 kg, with males typically larger than females [doc1].\n",
            "- Lifespan: In the wild, Arctic foxes live for 3-6 years, but they can live longer in captivity [doc1].\n",
            "\n",
            "Features:\n",
            "- Compact Body Shape: The Arctic fox has a compact body shape that helps minimize heat loss [doc1].\n",
            "- Seasonal Fur Color: Its fur changes color seasonally, appearing white in winter to blend with snow and brown/grey in summer for camouflage among rocks and vegetation [doc1].\n",
            "- Insulated Paws: The paws of the Arctic fox are covered in fur, providing insulation and earning it the nickname \"lagopus,\" meaning \"hare-footed\" [doc1].\n",
            "\n",
            "Habitat:\n",
            "- Distribution: Arctic foxes are found in Arctic tundra regions across Canada, Alaska, Greenland, Scandinavia, Russia, and Iceland [doc1].\n",
            "- Dens: They build dens in frost-free hillsides and coastal cliffs [doc1].\n",
            "\n",
            "Diet:\n",
            "- Omnivorous: Arctic foxes are opportunistic eaters and primarily consume small mammals like lemmings, birds, eggs, and carrion [doc1].\n",
            "- Adaptation: In times of scarcity, they forage for berries, seaweed, and scraps left by predators like polar bears [doc1].\n",
            "\n",
            "Behavior:\n",
            "- Solitary: Arctic foxes are solitary for most of the year but form monogamous pairs during the breeding season [doc1].\n",
            "- Breeding: They breed once a year, typically from February to May, and produce 5-10 pups per litter [doc1].\n",
            "\n",
            "Conservation:\n",
            "- Conservation Status: The Arctic fox is classified as Least Concern by the IUCN [doc1].\n",
            "- Threats: However, it faces threats from habitat loss and competition with red foxes in some regions [doc1].\n",
            "\n",
            "Fascinating Facts:\n",
            "- Incredible Hearing: Arctic foxes have incredible hearing, allowing them to locate prey beneath thick snow [doc1].\n",
            "- Tail for Warmth: They use their bushy tails for warmth by curling up and covering their faces while sleeping [doc1].\n",
            "- Survival Skills: These foxes are capable of surviving without food for several weeks, relying on their fat reserves [doc1].\n",
            "\n",
            "For more details, you can refer to .\n",
            "\n"
          ]
        }
      ],
      "source": [
        "# Print response\n",
        "print(\"Response: \" + response.choices[0].message.content + \"\\n\")"
      ]
    },
    {
      "cell_type": "code",
      "execution_count": 34,
      "metadata": {
        "gather": {
          "logged": 1712392291521
        },
        "jupyter": {
          "outputs_hidden": false,
          "source_hidden": false
        },
        "nteract": {
          "transient": {
            "deleting": false
          }
        },
        "colab": {
          "base_uri": "https://localhost:8080/"
        },
        "id": "ch8xW4BGRl6e",
        "outputId": "0bbc5be3-1782-4a13-e613-bbf2021749e3"
      },
      "outputs": [
        {
          "output_type": "stream",
          "name": "stdout",
          "text": [
            "Citations:\n",
            "  Title: Arctic_Fox_Details.pdf\n",
            "    URL: https://group5storage28112024.blob.core.windows.net/fileupload-wildlife1/Arctic_Fox_Details.pdf\n",
            "  Title: Walrus_Details.pdf\n",
            "    URL: https://group5storage28112024.blob.core.windows.net/fileupload-wildlife1/Walrus_Details.pdf\n",
            "  Title: Polar_Bear_Details.pdf\n",
            "    URL: https://group5storage28112024.blob.core.windows.net/fileupload-wildlife1/Polar_Bear_Details.pdf\n"
          ]
        }
      ],
      "source": [
        "#Check for the citations\n",
        "if (show_citations):\n",
        "    # Print citations\n",
        "    print(\"Citations:\")\n",
        "    citations = response.choices[0].message.context[\"messages\"][0][\"content\"]\n",
        "    citation_json = json.loads(citations)\n",
        "    for c in citation_json[\"citations\"]:\n",
        "        print(\"  Title: \" + c['title'] + \"\\n    URL: \" + c['url'])"
      ]
    },
    {
      "cell_type": "code",
      "execution_count": null,
      "metadata": {
        "jupyter": {
          "outputs_hidden": false,
          "source_hidden": false
        },
        "nteract": {
          "transient": {
            "deleting": false
          }
        },
        "id": "VdllTx-ARl6f"
      },
      "outputs": [],
      "source": []
    }
  ],
  "metadata": {
    "kernel_info": {
      "name": "python38-azureml"
    },
    "kernelspec": {
      "display_name": "Python 3.8 - AzureML",
      "language": "python",
      "name": "python38-azureml"
    },
    "language_info": {
      "codemirror_mode": {
        "name": "ipython",
        "version": 3
      },
      "file_extension": ".py",
      "mimetype": "text/x-python",
      "name": "python",
      "nbconvert_exporter": "python",
      "pygments_lexer": "ipython3",
      "version": "3.8.5"
    },
    "microsoft": {
      "host": {
        "AzureML": {
          "notebookHasBeenCompleted": true
        }
      },
      "ms_spell_check": {
        "ms_spell_check_language": "en"
      }
    },
    "nteract": {
      "version": "nteract-front-end@1.0.0"
    },
    "colab": {
      "provenance": []
    }
  },
  "nbformat": 4,
  "nbformat_minor": 0
}